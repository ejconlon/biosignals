{
 "cells": [
  {
   "cell_type": "markdown",
   "metadata": {},
   "source": [
    "# Visualization of some sample data"
   ]
  },
  {
   "cell_type": "code",
   "execution_count": null,
   "metadata": {},
   "outputs": [],
   "source": [
    "# Boilerplate to chdir to project root and add projects sources to python path\n",
    "import os\n",
    "import sys\n",
    "if os.path.basename(os.getcwd()) == 'notebooks':\n",
    "    os.chdir('..')\n",
    "    sys.path.append(os.path.abspath('.'))"
   ]
  },
  {
   "cell_type": "code",
   "execution_count": null,
   "metadata": {},
   "outputs": [],
   "source": [
    "from biosignals.dataset import *\n",
    "from matplotlib import pyplot as plt"
   ]
  },
  {
   "cell_type": "code",
   "execution_count": null,
   "metadata": {},
   "outputs": [],
   "source": [
    "per_chan, per_part = combined_dfs(set(['01', '02']))"
   ]
  },
  {
   "cell_type": "code",
   "execution_count": null,
   "metadata": {},
   "outputs": [],
   "source": [
    "per_chan"
   ]
  },
  {
   "cell_type": "code",
   "execution_count": null,
   "metadata": {},
   "outputs": [],
   "source": [
    "per_part"
   ]
  },
  {
   "cell_type": "code",
   "execution_count": null,
   "metadata": {},
   "outputs": [],
   "source": [
    "(eeg, stim, audio) = read_ieeg_data('01')\n",
    "print(eeg.shape, stim.shape, audio.shape)"
   ]
  },
  {
   "cell_type": "code",
   "execution_count": null,
   "metadata": {},
   "outputs": [],
   "source": [
    "plot_seconds = 5\n",
    "eeg_samples = EEG_SAMPLE_RATE * plot_seconds\n",
    "audio_samples = AUDIO_SAMPLE_RATE * plot_seconds\n",
    "eeg_rng = np.linspace(0, plot_seconds, eeg_samples)\n",
    "audio_rng = np.linspace(0, plot_seconds, audio_samples)\n",
    "stim_ixs = [ix for ix in np.where(np.roll(stim,1)!=stim)[0] if ix < eeg_samples]"
   ]
  },
  {
   "cell_type": "code",
   "execution_count": null,
   "metadata": {},
   "outputs": [],
   "source": [
    "fig, ax = plt.subplots()\n",
    "plt.plot(eeg_rng, eeg[36][:eeg_samples])\n",
    "trans = ax.get_xaxis_transform()\n",
    "for ix in stim_ixs:\n",
    "  x = float(ix) / EEG_SAMPLE_RATE\n",
    "  ax.axvline(x, color='red')\n",
    "  plt.text(x, 0.95, stim[ix], transform=trans, color='red')"
   ]
  },
  {
   "cell_type": "code",
   "execution_count": null,
   "metadata": {},
   "outputs": [],
   "source": [
    "fig, ax = plt.subplots()\n",
    "plt.plot(audio_rng, audio[:audio_samples])\n",
    "trans = ax.get_xaxis_transform()\n",
    "for ix in stim_ixs:\n",
    "  x = float(ix) / EEG_SAMPLE_RATE\n",
    "  ax.axvline(x, color='red')\n",
    "  plt.text(x, 0.95, stim[ix], transform=trans, color='red')"
   ]
  }
 ],
 "metadata": {
  "kernelspec": {
   "display_name": "Python 3.10.7 ('.venv': venv)",
   "language": "python",
   "name": "python3"
  },
  "language_info": {
   "codemirror_mode": {
    "name": "ipython",
    "version": 3
   },
   "file_extension": ".py",
   "mimetype": "text/x-python",
   "name": "python",
   "nbconvert_exporter": "python",
   "pygments_lexer": "ipython3",
   "version": "3.10.7"
  },
  "orig_nbformat": 4,
  "vscode": {
   "interpreter": {
    "hash": "f17ec6334a497e8400f505cf1520ccea83d8b5b79b27d74ef35598732825e4f8"
   }
  }
 },
 "nbformat": 4,
 "nbformat_minor": 2
}
